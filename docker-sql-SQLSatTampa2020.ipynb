{
    "metadata": {
        "kernelspec": {
            "name": "powershell",
            "display_name": "PowerShell"
        },
        "language_info": {
            "name": "powershell",
            "codemirror_mode": "shell",
            "mimetype": "text/x-sh",
            "file_extension": ".ps1"
        }
    },
    "nbformat_minor": 2,
    "nbformat": 4,
    "cells": [
        {
            "cell_type": "markdown",
            "source": [
                "# **SQL Server on Docker Runbook**\r\n",
                "\r\n",
                "<img src=\"https://pngimage.net/wp-content/uploads/2018/06/sql-server-logo-png-3.png\" width=\"300\" height=\"100\">\r\n",
                "<img src=\"https://www.docker.com/sites/default/files/d8/2019-07/Moby-logo.png\" width=\"150\" height=\"100\" > "
            ],
            "metadata": {
                "azdata_cell_guid": "88beaeb9-4bec-4d82-a78b-6c8d4a37240d"
            }
        },
        {
            "cell_type": "markdown",
            "source": [
                "## Steps on Running SQL Server on Docker\r\n",
                "\r\n",
                "### Pre-requisite\r\n",
                "1. Download and Install Docker Desktop\r\n",
                "https://hub.docker.com/editions/community/docker-ce-desktop-windows\r\n",
                "https://docs.docker.com/docker-for-windows/install/\r\n",
                "2. Create a login in Docker Hub\r\n",
                "3. Enable Container and Hyper-V (Hyper-V Isolation) on Windows 10 Pro\r\n",
                "https://docs.microsoft.com/en-us/virtualization/hyper-v-on-windows/quick-start/enable-hyper-v\r\n",
                "\r\n",
                "### Running Docker\r\n",
                "1. Download the image from the registry (Docker Hub) - *docker pull*\r\n",
                "2. Create the container - *docker run*\r\n",
                ""
            ],
            "metadata": {
                "azdata_cell_guid": "a6a9874e-6cb7-4c07-aaea-5cc4042882b8"
            }
        },
        {
            "cell_type": "markdown",
            "source": [
                "### Check Docker Version"
            ],
            "metadata": {
                "azdata_cell_guid": "8d8527b4-6ee3-4062-8ede-3898dd4cc6e9"
            }
        },
        {
            "cell_type": "code",
            "source": [
                "docker --version"
            ],
            "metadata": {
                "azdata_cell_guid": "16e31231-4aed-45a8-9565-97adf3159000"
            },
            "outputs": [
                {
                    "name": "stdout",
                    "text": "Docker version 19.03.5, build 633a0ea\n",
                    "output_type": "stream"
                }
            ],
            "execution_count": 1
        },
        {
            "cell_type": "markdown",
            "source": [
                "### Download SQL Server Images from MCR\r\n",
                "Container Lifecycle\r\n",
                "Build -> Push -> **PULL** -> Run"
            ],
            "metadata": {
                "azdata_cell_guid": "2cafbc79-dfd0-465b-aefc-1952a4a63dea"
            }
        },
        {
            "cell_type": "code",
            "source": [
                "docker pull mcr.microsoft.com/mssql/server:2017-latest-ubuntu"
            ],
            "metadata": {
                "azdata_cell_guid": "a482999b-1040-4f55-8869-8dea49b198d8"
            },
            "outputs": [
                {
                    "name": "stdout",
                    "text": "2017-latest-ubuntu: Pulling from mssql/server\n59ab41dd721a: Already exists\n57da90bec92c: Already exists\n06fe57530625: Already exists\n5a6315cba1ff: Already exists\n739f58768b3f: Already exists\n3a58fde0fc61: Pulling fs layer\n89b44069090d: Pulling fs layer\n3f6b360deb9e: Pulling fs layer\nb8d0242f03c2: Pulling fs layer\nb8d0242f03c2: Waiting\n3a58fde0fc61: Verifying Checksum\n3a58fde0fc61: Download complete\n3a58fde0fc61: Pull complete\nb8d0242f03c2: Verifying Checksum\nb8d0242f03c2: Download complete\n89b44069090d: Verifying Checksum\n89b44069090d: Download complete\n89b44069090d: Pull complete\n3f6b360deb9e: Verifying Checksum\n3f6b360deb9e: Download complete\n3f6b360deb9e: Pull complete\nb8d0242f03c2: Pull complete\nDigest: sha256:f551ff159479f402bc3a120d9bb509c78bbcb8d1fe401552e102f28bc654db0e\nStatus: Downloaded newer image for mcr.microsoft.com/mssql/server:2017-latest-ubuntu\nmcr.microsoft.com/mssql/server:2017-latest-ubuntu\n",
                    "output_type": "stream"
                }
            ],
            "execution_count": 5
        },
        {
            "cell_type": "code",
            "source": [
                "docker pull mcr.microsoft.com/mssql/server:2019-latest"
            ],
            "metadata": {
                "azdata_cell_guid": "356b2320-610c-4c71-966a-183fbf384eb8"
            },
            "outputs": [
                {
                    "name": "stdout",
                    "text": "2019-latest: Pulling from mssql/server\n59ab41dd721a: Already exists\n57da90bec92c: Already exists\n06fe57530625: Already exists\n5a6315cba1ff: Already exists\n739f58768b3f: Already exists\n3a58fde0fc61: Already exists\n89b44069090d: Already exists\n66c04823cbae: Pulling fs layer\ne0d33b08f011: Pulling fs layer\ne0d33b08f011: Verifying Checksum\ne0d33b08f011: Download complete\n66c04823cbae: Verifying Checksum\n66c04823cbae: Download complete\n66c04823cbae: Pull complete\ne0d33b08f011: Pull complete\nDigest: sha256:e6f8a9434cc64c6e2e96efd07771ff39664ee2e7444de04e942d60b4b73558e0\nStatus: Downloaded newer image for mcr.microsoft.com/mssql/server:2019-latest\nmcr.microsoft.com/mssql/server:2019-latest\n",
                    "output_type": "stream"
                }
            ],
            "execution_count": 7
        },
        {
            "cell_type": "code",
            "source": [
                "docker pull microsoft/mssql-server-windows-developer"
            ],
            "metadata": {
                "azdata_cell_guid": "1d55c721-2c5a-434a-b57f-7392367dacbe"
            },
            "outputs": [
                {
                    "name": "stdout",
                    "text": "Using default tag: latest\nlatest: Pulling from microsoft/mssql-server-windows-developer\n3889bb8d808b: Pulling fs layer\n449343c9d7e2: Pulling fs layer\n08883151461d: Pulling fs layer\nbafeb45a72fc: Pulling fs layer\nf5c5aa235c5b: Pulling fs layer\n158fead2ffa0: Pulling fs layer\n746db9597cec: Pulling fs layer\n9e96edbd8781: Pulling fs layer\nc6dabab6234f: Pulling fs layer\n975d0dccd859: Pulling fs layer\n5b747cfb01b7: Pulling fs layer\nc77992bbfd0f: Pulling fs layer\n746db9597cec: Waiting\n9e96edbd8781: Waiting\nc6dabab6234f: Waiting\n975d0dccd859: Waiting\n5b747cfb01b7: Waiting\nc77992bbfd0f: Waiting\nbafeb45a72fc: Waiting\nf5c5aa235c5b: Waiting\n158fead2ffa0: Waiting\nimage operating system \"windows\" cannot be used on this platform\n",
                    "output_type": "stream"
                }
            ],
            "execution_count": 11
        },
        {
            "cell_type": "markdown",
            "source": [
                "### List of All Downloaded Images\r\n",
                "It only shows images related to container mode, i.e. if it is in linux container, it shows linux images EXCEPT running LCOW (Experimental Mode)."
            ],
            "metadata": {
                "azdata_cell_guid": "1021c5cd-84dc-4bce-b472-530def910a64"
            }
        },
        {
            "cell_type": "code",
            "source": [
                "docker.exe images"
            ],
            "metadata": {
                "azdata_cell_guid": "f6978e11-f174-4353-aac8-f75eb60f61fa"
            },
            "outputs": [
                {
                    "name": "stdout",
                    "text": "REPOSITORY                       TAG                      IMAGE ID            CREATED             SIZE\nmcr.microsoft.com/mssql/server   2019-latest              56655b462301        8 days ago          1.54GB\nmcr.microsoft.com/mssql/server   2017-latest-ubuntu       a8343d3ce21c        3 weeks ago         1.39GB\nmcr.microsoft.com/mssql/server   2019-GDR1-ubuntu-16.04   ba266fae5320        3 months ago        1.57GB\nmcr.microsoft.com/mssql/server   2019-GA-ubuntu-16.04     76c7c66bff02        4 months ago        1.57GB\n",
                    "output_type": "stream"
                }
            ],
            "execution_count": 12
        },
        {
            "cell_type": "markdown",
            "source": [
                "### **Create SQL Server 2017 in Linux Container**\r\n",
                "-d Run container in background and print container ID  \r\n",
                "-p mapping of external port to internal port  \r\n",
                "-- name friendly customized name rather than system generated name  \r\n",
                "-e environment variables; for SQL Server, two environment variables are needed."
            ],
            "metadata": {
                "azdata_cell_guid": "0f6e77ff-2385-4891-bb35-682079195c07"
            }
        },
        {
            "cell_type": "code",
            "source": [
                "docker run -d -p 1401:1433 --name sql1 -e \"SA_PASSWORD=YourStrong@Passw0rd\" -e \"ACCEPT_EULA=Y\" mcr.microsoft.com/mssql/server:2017-latest-ubuntu"
            ],
            "metadata": {
                "azdata_cell_guid": "ad6ea6a5-93af-4ae5-a5fa-75e656897f4d"
            },
            "outputs": [
                {
                    "name": "stdout",
                    "text": "ced94982e13469edd922d2db88d107010de6f20393daa85ec192095d6c0d712c\n",
                    "output_type": "stream"
                }
            ],
            "execution_count": 13
        },
        {
            "cell_type": "markdown",
            "source": [
                "### **Create SQL Server 2019 Container in Linux Container**\r\n",
                "For outside container, it cannot use ports already used. In this case, port 1401 is already used."
            ],
            "metadata": {
                "azdata_cell_guid": "cf6c14da-f48a-4ddb-8a04-72f029336d04"
            }
        },
        {
            "cell_type": "code",
            "source": [
                "docker run -d -p 1402:1433 --name sql2 -e \"SA_PASSWORD=YourStrong@Passw0rd\" -e \"ACCEPT_EULA=Y\" mcr.microsoft.com/mssql/server:2019-latest"
            ],
            "metadata": {
                "azdata_cell_guid": "a2e9044c-07d4-4652-bb33-5400ba669cc3"
            },
            "outputs": [
                {
                    "name": "stdout",
                    "text": "c556d0e186e8ed640b3ab5789243b373aa27750e5b4de671193eb9af1a0afaac\n",
                    "output_type": "stream"
                }
            ],
            "execution_count": 2
        },
        {
            "cell_type": "markdown",
            "source": [
                "### How to Bring the Backup File to the Container?\r\n",
                "Copy the backup file from the external host to the container"
            ],
            "metadata": {
                "azdata_cell_guid": "282ceff8-69c1-4a00-9f14-def4242ab9c4"
            }
        },
        {
            "cell_type": "code",
            "source": [
                "docker cp c:\\tempoutlnx\\AdventureWorksLT2017.bak sql2:/var/opt/mssql/data"
            ],
            "metadata": {
                "azdata_cell_guid": "1e75328c-b758-47d9-b601-6b71b56a4c33"
            },
            "outputs": [
                {
                    "name": "stdout",
                    "text": "",
                    "output_type": "stream"
                }
            ],
            "execution_count": 16
        },
        {
            "cell_type": "markdown",
            "source": [
                "Once the backup file is local to the container, we can run the restore using TSQL command (Switch Kernel to SQL and attach to SQL Server Instance)"
            ],
            "metadata": {
                "azdata_cell_guid": "d4cec190-a56d-4451-84c6-6b5f7994a675"
            }
        },
        {
            "cell_type": "code",
            "source": [
                "restore database AdventureWorksLT2017 from disk = '/var/opt/mssql/data/AdventureWorksLT2017.bak' with move 'AdventureWorksLT2012_Data' to '/var/opt/mssql/data/adventureworkslt2017_data.mdf', move 'AdventureWorksLT2012_Log' to '/var/opt/mssql/data/adventureworkslt2017_log.ldf'"
            ],
            "metadata": {
                "azdata_cell_guid": "04e8bbfa-e84d-426a-8314-6bde5ea8c8fc"
            },
            "outputs": [
                {
                    "output_type": "display_data",
                    "data": {
                        "text/html": "Processed 824 pages for database 'AdventureWorksLT2017', file 'AdventureWorksLT2012_Data' on file 1."
                    },
                    "metadata": {}
                },
                {
                    "output_type": "display_data",
                    "data": {
                        "text/html": "Processed 6 pages for database 'AdventureWorksLT2017', file 'AdventureWorksLT2012_Log' on file 1."
                    },
                    "metadata": {}
                },
                {
                    "output_type": "display_data",
                    "data": {
                        "text/html": "Converting database 'AdventureWorksLT2017' from version 869 to the current version 904."
                    },
                    "metadata": {}
                },
                {
                    "output_type": "display_data",
                    "data": {
                        "text/html": "Database 'AdventureWorksLT2017' running the upgrade step from version 869 to version 875."
                    },
                    "metadata": {}
                },
                {
                    "output_type": "display_data",
                    "data": {
                        "text/html": "Database 'AdventureWorksLT2017' running the upgrade step from version 875 to version 876."
                    },
                    "metadata": {}
                },
                {
                    "output_type": "display_data",
                    "data": {
                        "text/html": "Database 'AdventureWorksLT2017' running the upgrade step from version 876 to version 877."
                    },
                    "metadata": {}
                },
                {
                    "output_type": "display_data",
                    "data": {
                        "text/html": "Database 'AdventureWorksLT2017' running the upgrade step from version 877 to version 878."
                    },
                    "metadata": {}
                },
                {
                    "output_type": "display_data",
                    "data": {
                        "text/html": "Database 'AdventureWorksLT2017' running the upgrade step from version 878 to version 879."
                    },
                    "metadata": {}
                },
                {
                    "output_type": "display_data",
                    "data": {
                        "text/html": "Database 'AdventureWorksLT2017' running the upgrade step from version 879 to version 880."
                    },
                    "metadata": {}
                },
                {
                    "output_type": "display_data",
                    "data": {
                        "text/html": "Database 'AdventureWorksLT2017' running the upgrade step from version 880 to version 881."
                    },
                    "metadata": {}
                },
                {
                    "output_type": "display_data",
                    "data": {
                        "text/html": "Database 'AdventureWorksLT2017' running the upgrade step from version 881 to version 882."
                    },
                    "metadata": {}
                },
                {
                    "output_type": "display_data",
                    "data": {
                        "text/html": "Database 'AdventureWorksLT2017' running the upgrade step from version 882 to version 883."
                    },
                    "metadata": {}
                },
                {
                    "output_type": "display_data",
                    "data": {
                        "text/html": "Database 'AdventureWorksLT2017' running the upgrade step from version 883 to version 884."
                    },
                    "metadata": {}
                },
                {
                    "output_type": "display_data",
                    "data": {
                        "text/html": "Database 'AdventureWorksLT2017' running the upgrade step from version 884 to version 885."
                    },
                    "metadata": {}
                },
                {
                    "output_type": "display_data",
                    "data": {
                        "text/html": "Database 'AdventureWorksLT2017' running the upgrade step from version 885 to version 886."
                    },
                    "metadata": {}
                },
                {
                    "output_type": "display_data",
                    "data": {
                        "text/html": "Database 'AdventureWorksLT2017' running the upgrade step from version 886 to version 887."
                    },
                    "metadata": {}
                },
                {
                    "output_type": "display_data",
                    "data": {
                        "text/html": "Database 'AdventureWorksLT2017' running the upgrade step from version 887 to version 888."
                    },
                    "metadata": {}
                },
                {
                    "output_type": "display_data",
                    "data": {
                        "text/html": "Database 'AdventureWorksLT2017' running the upgrade step from version 888 to version 889."
                    },
                    "metadata": {}
                },
                {
                    "output_type": "display_data",
                    "data": {
                        "text/html": "Database 'AdventureWorksLT2017' running the upgrade step from version 889 to version 890."
                    },
                    "metadata": {}
                },
                {
                    "output_type": "display_data",
                    "data": {
                        "text/html": "Database 'AdventureWorksLT2017' running the upgrade step from version 890 to version 891."
                    },
                    "metadata": {}
                },
                {
                    "output_type": "display_data",
                    "data": {
                        "text/html": "Database 'AdventureWorksLT2017' running the upgrade step from version 891 to version 892."
                    },
                    "metadata": {}
                },
                {
                    "output_type": "display_data",
                    "data": {
                        "text/html": "Database 'AdventureWorksLT2017' running the upgrade step from version 892 to version 893."
                    },
                    "metadata": {}
                },
                {
                    "output_type": "display_data",
                    "data": {
                        "text/html": "Database 'AdventureWorksLT2017' running the upgrade step from version 893 to version 894."
                    },
                    "metadata": {}
                },
                {
                    "output_type": "display_data",
                    "data": {
                        "text/html": "Database 'AdventureWorksLT2017' running the upgrade step from version 894 to version 895."
                    },
                    "metadata": {}
                },
                {
                    "output_type": "display_data",
                    "data": {
                        "text/html": "Database 'AdventureWorksLT2017' running the upgrade step from version 895 to version 896."
                    },
                    "metadata": {}
                },
                {
                    "output_type": "display_data",
                    "data": {
                        "text/html": "Database 'AdventureWorksLT2017' running the upgrade step from version 896 to version 897."
                    },
                    "metadata": {}
                },
                {
                    "output_type": "display_data",
                    "data": {
                        "text/html": "Database 'AdventureWorksLT2017' running the upgrade step from version 897 to version 898."
                    },
                    "metadata": {}
                },
                {
                    "output_type": "display_data",
                    "data": {
                        "text/html": "Database 'AdventureWorksLT2017' running the upgrade step from version 898 to version 899."
                    },
                    "metadata": {}
                },
                {
                    "output_type": "display_data",
                    "data": {
                        "text/html": "Database 'AdventureWorksLT2017' running the upgrade step from version 899 to version 900."
                    },
                    "metadata": {}
                },
                {
                    "output_type": "display_data",
                    "data": {
                        "text/html": "Database 'AdventureWorksLT2017' running the upgrade step from version 900 to version 901."
                    },
                    "metadata": {}
                },
                {
                    "output_type": "display_data",
                    "data": {
                        "text/html": "Database 'AdventureWorksLT2017' running the upgrade step from version 901 to version 902."
                    },
                    "metadata": {}
                },
                {
                    "output_type": "display_data",
                    "data": {
                        "text/html": "Database 'AdventureWorksLT2017' running the upgrade step from version 902 to version 903."
                    },
                    "metadata": {}
                },
                {
                    "output_type": "display_data",
                    "data": {
                        "text/html": "Database 'AdventureWorksLT2017' running the upgrade step from version 903 to version 904."
                    },
                    "metadata": {}
                },
                {
                    "output_type": "display_data",
                    "data": {
                        "text/html": "RESTORE DATABASE successfully processed 830 pages in 0.230 seconds (28.192 MB/sec)."
                    },
                    "metadata": {}
                },
                {
                    "output_type": "display_data",
                    "data": {
                        "text/html": "Total execution time: 00:00:05.820"
                    },
                    "metadata": {}
                }
            ],
            "execution_count": 1
        },
        {
            "cell_type": "markdown",
            "source": [
                "### What Happens if Deleting the Container?\r\n",
                "Will the Database still there?   \r\n",
                "1. Let's delete the container. Before deleting it, the active container needs to stop.  \r\n",
                "2. After delete the container, create the container using the same previous step.  \r\n",
                "3. Check if the database is still there."
            ],
            "metadata": {
                "azdata_cell_guid": "56585c48-f8c0-47bc-94e8-5733733b6421"
            }
        },
        {
            "cell_type": "code",
            "source": [
                "docker stop sql2\r\n",
                "docker rm sql2"
            ],
            "metadata": {
                "azdata_cell_guid": "19c0c653-2faf-49dc-8210-cd5bde940b4e"
            },
            "outputs": [
                {
                    "name": "stdout",
                    "text": "sql2\nsql2\n",
                    "output_type": "stream"
                }
            ],
            "execution_count": 1
        },
        {
            "cell_type": "markdown",
            "source": [
                "## **Persistent Storage Options**\r\n",
                "\r\n",
                "1. Shared Volume\r\n",
                "2. Mapped Volume"
            ],
            "metadata": {
                "azdata_cell_guid": "d450e6a4-d7dd-43fc-bdb4-8977104595f7"
            }
        },
        {
            "cell_type": "markdown",
            "source": [
                "### Using Shared Volume"
            ],
            "metadata": {
                "azdata_cell_guid": "0cf339b4-d891-443c-aa7c-57ac037f5766"
            }
        },
        {
            "cell_type": "code",
            "source": [
                "docker run -d -p 1403:1433 --name sql3 -v sqlvolume3:/var/opt/mssql -e \"SA_PASSWORD=YourStrong@Passw0rd\" -e \"ACCEPT_EULA=Y\" mcr.microsoft.com/mssql/server:2019-latest"
            ],
            "metadata": {
                "azdata_cell_guid": "8c9a4d7a-f371-49a2-85fb-9a4b1f90168c"
            },
            "outputs": [
                {
                    "name": "stdout",
                    "text": "7bf7daefdc06bb183914834f4463d7a833c6cda5ceb4589355bf2f02835f22e1\n",
                    "output_type": "stream"
                }
            ],
            "execution_count": 2
        },
        {
            "cell_type": "markdown",
            "source": [
                "List all the volumes"
            ],
            "metadata": {
                "azdata_cell_guid": "c69ee6a8-cc7a-4dbc-a587-0b52e2602b3f"
            }
        },
        {
            "cell_type": "code",
            "source": [
                "docker volume ls"
            ],
            "metadata": {
                "azdata_cell_guid": "4d718e3f-00b3-4133-9b9c-d05034e073bd"
            },
            "outputs": [
                {
                    "name": "stdout",
                    "text": "DRIVER              VOLUME NAME\nlocal               sqlvolume3\n",
                    "output_type": "stream"
                }
            ],
            "execution_count": 4
        },
        {
            "cell_type": "markdown",
            "source": [
                "Copy the backup file, run the restore to validate it is working.  \r\n",
                "To check if the persistent stroage works:  \r\n",
                "1. Delete the container.\r\n",
                "2. Recreate the container and check if the database is still there."
            ],
            "metadata": {
                "azdata_cell_guid": "fe001cc8-40a9-4781-bcb9-285e4295487e"
            }
        },
        {
            "cell_type": "code",
            "source": [
                "docker cp c:\\tempoutlnx\\AdventureWorksLT2017.bak sql3:/var/opt/mssql/data"
            ],
            "metadata": {
                "azdata_cell_guid": "0f3ebea8-133f-43cc-9a9e-79beaed379ff"
            },
            "outputs": [
                {
                    "name": "stdout",
                    "text": "",
                    "output_type": "stream"
                }
            ],
            "execution_count": 5
        },
        {
            "cell_type": "code",
            "source": [
                "restore database AdventureWorksLT2017 from disk = '/var/opt/mssql/data/AdventureWorksLT2017.bak' with move 'AdventureWorksLT2012_Data' to '/var/opt/mssql/data/adventureworkslt2017_data.mdf', move 'AdventureWorksLT2012_Log' to '/var/opt/mssql/data/adventureworkslt2017_log.ldf'"
            ],
            "metadata": {
                "azdata_cell_guid": "dc20fd00-2ab7-4634-9421-ffa40d2d7ac2"
            },
            "outputs": [
                {
                    "output_type": "display_data",
                    "data": {
                        "text/html": "Processed 824 pages for database 'AdventureWorksLT2017', file 'AdventureWorksLT2012_Data' on file 1."
                    },
                    "metadata": {}
                },
                {
                    "output_type": "display_data",
                    "data": {
                        "text/html": "Processed 6 pages for database 'AdventureWorksLT2017', file 'AdventureWorksLT2012_Log' on file 1."
                    },
                    "metadata": {}
                },
                {
                    "output_type": "display_data",
                    "data": {
                        "text/html": "Converting database 'AdventureWorksLT2017' from version 869 to the current version 904."
                    },
                    "metadata": {}
                },
                {
                    "output_type": "display_data",
                    "data": {
                        "text/html": "Database 'AdventureWorksLT2017' running the upgrade step from version 869 to version 875."
                    },
                    "metadata": {}
                },
                {
                    "output_type": "display_data",
                    "data": {
                        "text/html": "Database 'AdventureWorksLT2017' running the upgrade step from version 875 to version 876."
                    },
                    "metadata": {}
                },
                {
                    "output_type": "display_data",
                    "data": {
                        "text/html": "Database 'AdventureWorksLT2017' running the upgrade step from version 876 to version 877."
                    },
                    "metadata": {}
                },
                {
                    "output_type": "display_data",
                    "data": {
                        "text/html": "Database 'AdventureWorksLT2017' running the upgrade step from version 877 to version 878."
                    },
                    "metadata": {}
                },
                {
                    "output_type": "display_data",
                    "data": {
                        "text/html": "Database 'AdventureWorksLT2017' running the upgrade step from version 878 to version 879."
                    },
                    "metadata": {}
                },
                {
                    "output_type": "display_data",
                    "data": {
                        "text/html": "Database 'AdventureWorksLT2017' running the upgrade step from version 879 to version 880."
                    },
                    "metadata": {}
                },
                {
                    "output_type": "display_data",
                    "data": {
                        "text/html": "Database 'AdventureWorksLT2017' running the upgrade step from version 880 to version 881."
                    },
                    "metadata": {}
                },
                {
                    "output_type": "display_data",
                    "data": {
                        "text/html": "Database 'AdventureWorksLT2017' running the upgrade step from version 881 to version 882."
                    },
                    "metadata": {}
                },
                {
                    "output_type": "display_data",
                    "data": {
                        "text/html": "Database 'AdventureWorksLT2017' running the upgrade step from version 882 to version 883."
                    },
                    "metadata": {}
                },
                {
                    "output_type": "display_data",
                    "data": {
                        "text/html": "Database 'AdventureWorksLT2017' running the upgrade step from version 883 to version 884."
                    },
                    "metadata": {}
                },
                {
                    "output_type": "display_data",
                    "data": {
                        "text/html": "Database 'AdventureWorksLT2017' running the upgrade step from version 884 to version 885."
                    },
                    "metadata": {}
                },
                {
                    "output_type": "display_data",
                    "data": {
                        "text/html": "Database 'AdventureWorksLT2017' running the upgrade step from version 885 to version 886."
                    },
                    "metadata": {}
                },
                {
                    "output_type": "display_data",
                    "data": {
                        "text/html": "Database 'AdventureWorksLT2017' running the upgrade step from version 886 to version 887."
                    },
                    "metadata": {}
                },
                {
                    "output_type": "display_data",
                    "data": {
                        "text/html": "Database 'AdventureWorksLT2017' running the upgrade step from version 887 to version 888."
                    },
                    "metadata": {}
                },
                {
                    "output_type": "display_data",
                    "data": {
                        "text/html": "Database 'AdventureWorksLT2017' running the upgrade step from version 888 to version 889."
                    },
                    "metadata": {}
                },
                {
                    "output_type": "display_data",
                    "data": {
                        "text/html": "Database 'AdventureWorksLT2017' running the upgrade step from version 889 to version 890."
                    },
                    "metadata": {}
                },
                {
                    "output_type": "display_data",
                    "data": {
                        "text/html": "Database 'AdventureWorksLT2017' running the upgrade step from version 890 to version 891."
                    },
                    "metadata": {}
                },
                {
                    "output_type": "display_data",
                    "data": {
                        "text/html": "Database 'AdventureWorksLT2017' running the upgrade step from version 891 to version 892."
                    },
                    "metadata": {}
                },
                {
                    "output_type": "display_data",
                    "data": {
                        "text/html": "Database 'AdventureWorksLT2017' running the upgrade step from version 892 to version 893."
                    },
                    "metadata": {}
                },
                {
                    "output_type": "display_data",
                    "data": {
                        "text/html": "Database 'AdventureWorksLT2017' running the upgrade step from version 893 to version 894."
                    },
                    "metadata": {}
                },
                {
                    "output_type": "display_data",
                    "data": {
                        "text/html": "Database 'AdventureWorksLT2017' running the upgrade step from version 894 to version 895."
                    },
                    "metadata": {}
                },
                {
                    "output_type": "display_data",
                    "data": {
                        "text/html": "Database 'AdventureWorksLT2017' running the upgrade step from version 895 to version 896."
                    },
                    "metadata": {}
                },
                {
                    "output_type": "display_data",
                    "data": {
                        "text/html": "Database 'AdventureWorksLT2017' running the upgrade step from version 896 to version 897."
                    },
                    "metadata": {}
                },
                {
                    "output_type": "display_data",
                    "data": {
                        "text/html": "Database 'AdventureWorksLT2017' running the upgrade step from version 897 to version 898."
                    },
                    "metadata": {}
                },
                {
                    "output_type": "display_data",
                    "data": {
                        "text/html": "Database 'AdventureWorksLT2017' running the upgrade step from version 898 to version 899."
                    },
                    "metadata": {}
                },
                {
                    "output_type": "display_data",
                    "data": {
                        "text/html": "Database 'AdventureWorksLT2017' running the upgrade step from version 899 to version 900."
                    },
                    "metadata": {}
                },
                {
                    "output_type": "display_data",
                    "data": {
                        "text/html": "Database 'AdventureWorksLT2017' running the upgrade step from version 900 to version 901."
                    },
                    "metadata": {}
                },
                {
                    "output_type": "display_data",
                    "data": {
                        "text/html": "Database 'AdventureWorksLT2017' running the upgrade step from version 901 to version 902."
                    },
                    "metadata": {}
                },
                {
                    "output_type": "display_data",
                    "data": {
                        "text/html": "Database 'AdventureWorksLT2017' running the upgrade step from version 902 to version 903."
                    },
                    "metadata": {}
                },
                {
                    "output_type": "display_data",
                    "data": {
                        "text/html": "Database 'AdventureWorksLT2017' running the upgrade step from version 903 to version 904."
                    },
                    "metadata": {}
                },
                {
                    "output_type": "display_data",
                    "data": {
                        "text/html": "RESTORE DATABASE successfully processed 830 pages in 0.162 seconds (40.027 MB/sec)."
                    },
                    "metadata": {}
                },
                {
                    "output_type": "display_data",
                    "data": {
                        "text/html": "Total execution time: 00:00:04.489"
                    },
                    "metadata": {}
                }
            ],
            "execution_count": 1
        },
        {
            "cell_type": "code",
            "source": [
                "docker stop sql3\r\n",
                "docker rm sql3"
            ],
            "metadata": {
                "azdata_cell_guid": "4bdd8401-e61d-43c8-8d68-b9419644f533"
            },
            "outputs": [
                {
                    "name": "stdout",
                    "text": "sql3\nsql3\n",
                    "output_type": "stream"
                }
            ],
            "execution_count": 1
        },
        {
            "cell_type": "markdown",
            "source": [
                "### Using Mapped Volume\r\n",
                "Mapping the volume on outside to inside container"
            ],
            "metadata": {
                "azdata_cell_guid": "957775ba-5cb0-4af3-bd04-6fa781ad9c0d"
            }
        },
        {
            "cell_type": "code",
            "source": [
                "docker run -d -p 1404:1433 --name sql4 -v \"c:\\tempoutlnx:/tempinhost\" -e \"ACCEPT_EULA=Y\" -e \"MSSQL_SA_PASSWORD=YourStrong@Passw0rd\" mcr.microsoft.com/mssql/server:2019-latest"
            ],
            "metadata": {
                "azdata_cell_guid": "ef6ff649-74fb-4e84-b462-3e48db793700"
            },
            "outputs": [
                {
                    "output_type": "error",
                    "evalue": "Msg 102, Level 15, State 1, Line 1\r\nIncorrect syntax near '-'.",
                    "ename": "",
                    "traceback": []
                },
                {
                    "output_type": "display_data",
                    "data": {
                        "text/html": "Total execution time: 00:00:00.013"
                    },
                    "metadata": {}
                }
            ],
            "execution_count": 1
        },
        {
            "cell_type": "markdown",
            "source": [
                "Using TSQL to attach the database from the mapped volume"
            ],
            "metadata": {
                "azdata_cell_guid": "aec5e427-e79b-4a5d-a20a-d6da045ec33f"
            }
        },
        {
            "cell_type": "code",
            "source": [
                "USE [master]\r\n",
                "GO\r\n",
                "CREATE DATABASE [AdventureWorks2017] ON \r\n",
                "( FILENAME = N'/tempinhost/AdventureWorks2017.mdf' ),\r\n",
                "( FILENAME = N'/tempinhost/AdventureWorks2017_log.ldf' )\r\n",
                " FOR ATTACH\r\n",
                " GO"
            ],
            "metadata": {
                "azdata_cell_guid": "82fda294-850d-435b-b5c2-534d5ae61b4c",
                "tags": []
            },
            "outputs": [
                {
                    "output_type": "display_data",
                    "data": {
                        "text/html": "Commands completed successfully."
                    },
                    "metadata": {}
                },
                {
                    "output_type": "display_data",
                    "data": {
                        "text/html": "Commands completed successfully."
                    },
                    "metadata": {}
                },
                {
                    "output_type": "display_data",
                    "data": {
                        "text/html": "Total execution time: 00:00:02.780"
                    },
                    "metadata": {}
                }
            ],
            "execution_count": 2
        },
        {
            "cell_type": "code",
            "source": [
                ""
            ],
            "metadata": {
                "azdata_cell_guid": "a91d4e02-5dcd-4f0c-b328-a2500b7b5e30"
            },
            "outputs": [],
            "execution_count": null
        },
        {
            "cell_type": "markdown",
            "source": [
                "## **Running SQL Server on Windows Container**\r\n",
                "Switch Docker to Windows Container.  \r\n",
                "Create the container on the pre-download image.  \r\n",
                "NOTE: SQL Server on Windows image has not been updated for a while still running SQL Server 2016.\r\n",
                "\r\n",
                ""
            ],
            "metadata": {
                "azdata_cell_guid": "50cb992a-523d-417c-b6b7-c9b64c668b2f"
            }
        },
        {
            "cell_type": "code",
            "source": [
                "docker run -e \"ACCEPT_EULA=Y\" -e \"sa_password=YourStrong@Passw0rd\" -p 1405:1433 --name sqlwin5  -v \"c:\\tempoutwin:c:\\tempinhost\" -d microsoft/mssql-server-windows-developer"
            ],
            "metadata": {
                "azdata_cell_guid": "901e14da-b2e2-443d-8a77-b0c7534a8e83"
            },
            "outputs": [
                {
                    "name": "stdout",
                    "text": "809c7d36e3acdd4400698190c44d275833f9a376fbcf130a695f78a6f5e0347b\n",
                    "output_type": "stream"
                }
            ],
            "execution_count": 1
        },
        {
            "cell_type": "markdown",
            "source": [
                "Attach the database files from outside storage using TSQL."
            ],
            "metadata": {
                "azdata_cell_guid": "5c1963c9-f8a9-4505-966c-d7ab706e4664"
            }
        },
        {
            "cell_type": "code",
            "source": [
                "USE [master]\r\n",
                "GO\r\n",
                "CREATE DATABASE [AdventureWorks2017] ON \r\n",
                "( FILENAME = N'C:\\tempinhost\\AdventureWorks2017.mdf' ),\r\n",
                "( FILENAME = N'C:\\tempinhost\\AdventureWorks2017_log.ldf' )\r\n",
                " FOR ATTACH\r\n",
                " GO"
            ],
            "metadata": {
                "azdata_cell_guid": "05e8908d-ee38-4707-986a-19a2787ddbd2"
            },
            "outputs": [
                {
                    "output_type": "display_data",
                    "data": {
                        "text/html": "Commands completed successfully."
                    },
                    "metadata": {}
                },
                {
                    "output_type": "display_data",
                    "data": {
                        "text/html": "Commands completed successfully."
                    },
                    "metadata": {}
                },
                {
                    "output_type": "display_data",
                    "data": {
                        "text/html": "Total execution time: 00:00:00.534"
                    },
                    "metadata": {}
                }
            ],
            "execution_count": 1
        },
        {
            "cell_type": "markdown",
            "source": [
                "## **Clean Up**\r\n",
                "1. Stop any running container.\r\n",
                "2. Remove the container"
            ],
            "metadata": {
                "azdata_cell_guid": "c7ddd282-917b-4774-b1c4-dba1514a990e"
            }
        },
        {
            "cell_type": "code",
            "source": [
                "docker stop sqlwin5\r\n",
                "docker rm sqlwin5"
            ],
            "metadata": {
                "azdata_cell_guid": "2704a34e-41a8-4a89-b28c-c61d103246ac"
            },
            "outputs": [
                {
                    "name": "stdout",
                    "text": "sqlwin5\nsqlwin5\n",
                    "output_type": "stream"
                }
            ],
            "execution_count": 2
        },
        {
            "cell_type": "code",
            "source": [
                "docker stop sql1\r\n",
                "docker rm sql1\r\n",
                "docker stop sql2\r\n",
                "docker rm sql2\r\n",
                "docker stop sql3\r\n",
                "docker rm sql3\r\n",
                "docker stop sql4\r\n",
                "docker rm sql4\r\n",
                "docker volume rm sqlvolume3"
            ],
            "metadata": {
                "azdata_cell_guid": "c02965ec-5e7a-414d-ad08-4480884b8a44",
                "tags": [
                    "hide_input"
                ]
            },
            "outputs": [
                {
                    "name": "stdout",
                    "text": "sql1\nsql1\nsql2\nsql2\nsql3\nsql3\nsql4\nsql4\nsqlvolume3\n",
                    "output_type": "stream"
                }
            ],
            "execution_count": 3
        }
    ]
}